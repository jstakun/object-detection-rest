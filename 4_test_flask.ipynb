{
 "cells": [
  {
   "cell_type": "markdown",
   "metadata": {},
   "source": [
    "## Test Flask App\n",
    "From the another notebook (such as `run_flask.ipynb`), you can run the flask app in a cell and test it from here using python http or `curl` statements.\n",
    "\n",
    "```python\n",
    "# run_flask.ipynb\n",
    "!FLASK_APP=wsgi.py flask run\n",
    "```"
   ]
  },
  {
   "cell_type": "code",
   "execution_count": null,
   "metadata": {},
   "outputs": [],
   "source": [
    "import os\n",
    "\n",
    "#image file location.\n",
    "my_image = 'twodogs.jpg'\n",
    "\n",
    "#route to host \n",
    "my_route = 'http://localhost:5000'\n",
    "\n",
    "os.environ[\"MY_IMAGE\"] = my_image\n",
    "os.environ[\"MY_ROUTE\"] = my_route\n",
    "\n"
   ]
  },
  {
   "cell_type": "code",
   "execution_count": null,
   "metadata": {},
   "outputs": [],
   "source": [
    "!curl \"${MY_ROUTE}/status\""
   ]
  },
  {
   "cell_type": "code",
   "execution_count": null,
   "metadata": {
    "tags": []
   },
   "outputs": [],
   "source": [
    "!(echo -n '{\"image\": \"'; base64 \"${MY_IMAGE}\"; echo '\"}') | curl -X POST -H \"Content-Type: application/json\" -d @- ${MY_ROUTE}/predictions"
   ]
  },
  {
   "cell_type": "code",
   "execution_count": null,
   "metadata": {
    "tags": []
   },
   "outputs": [],
   "source": [
    "import base64\n",
    "import requests\n",
    "import pprint\n",
    "from json import dumps\n",
    "\n",
    "with open(my_image, \"rb\") as image_file:\n",
    "    encoded_image = base64.b64encode(image_file.read()).decode('utf-8')\n",
    "content = {\"image\": encoded_image}\n",
    "json_data = dumps(content)\n",
    "\n",
    "headers = {\"Content-Type\" : \"application/json\"}\n",
    "\n",
    "response = requests.post(my_route + '/predictions', data=json_data, headers=headers)\n",
    "\n",
    "pp = pprint.PrettyPrinter(width=41, compact=True)\n",
    "pp.pprint(response.json())\n"
   ]
  },
  {
   "cell_type": "markdown",
   "metadata": {
    "tags": []
   },
   "source": [
    "Now that our application is running and making predictions as expected, you can go back to the workshop instructions to see how we integrate this into an App with a user interface. "
   ]
  }
 ],
 "metadata": {
  "accelerator": "GPU",
  "colab": {
   "collapsed_sections": [],
   "name": "Object detection",
   "private_outputs": true,
   "provenance": [],
   "toc_visible": true
  },
  "kernelspec": {
   "display_name": "Python 3 (ipykernel)",
   "language": "python",
   "name": "python3"
  },
  "language_info": {
   "codemirror_mode": {
    "name": "ipython",
    "version": 3
   },
   "file_extension": ".py",
   "mimetype": "text/x-python",
   "name": "python",
   "nbconvert_exporter": "python",
   "pygments_lexer": "ipython3",
   "version": "3.8.6"
  }
 },
 "nbformat": 4,
 "nbformat_minor": 4
}
